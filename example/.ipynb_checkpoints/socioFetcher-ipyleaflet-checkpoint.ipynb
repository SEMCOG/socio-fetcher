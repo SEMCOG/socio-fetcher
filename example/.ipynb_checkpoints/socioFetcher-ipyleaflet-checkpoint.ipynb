{
 "cells": [
  {
   "cell_type": "code",
   "execution_count": 2,
   "metadata": {},
   "outputs": [],
   "source": [
    "from socioFetcher import Downloader, GeoDataFrame, Config\n",
    "from ipyleaflet import Map, basemaps, basemap_to_tiles, GeoData, GeoJSON\n",
    "import ipyleaflet\n",
    "import requests \n",
    "from ipywidgets import IntSlider, HTML, Dropdown"
   ]
  },
  {
   "cell_type": "code",
   "execution_count": 4,
   "metadata": {
    "scrolled": false
   },
   "outputs": [
    {
     "name": "stderr",
     "output_type": "stream",
     "text": [
      "\n",
      "Download BLS data:   0%|          | 0/2 [00:00<?, ?it/s]\u001b[A\n",
      "Download BLS data:  50%|█████     | 1/2 [03:26<03:26, 206.58s/it]\u001b[A\n",
      "Download BLS data: 100%|██████████| 2/2 [03:38<00:00, 148.09s/it]\u001b[A"
     ]
    }
   ],
   "source": [
    "datasets = [\"BLS\"]\n",
    "fips = {\"26093\": \"Livingston,MI\",\n",
    "                          \"26099\": \"Macomb,MI\",\n",
    "                          \"26115\": \"Monroe,MI\",\n",
    "                          \"26125\": \"Oakland,MI\",\n",
    "                          \"26147\": \"St. Clair,MI\",\n",
    "                          \"26161\": \"Washtenaw,MI\",\n",
    "                          \"26163\": \"Wayne,MI\"}.keys()\n",
    "dl = Downloader(datasets, list(fips))\n",
    "dl.download()"
   ]
  },
  {
   "cell_type": "code",
   "execution_count": 5,
   "metadata": {},
   "outputs": [
    {
     "name": "stderr",
     "output_type": "stream",
     "text": [
      "\n",
      "Getting Choro data:   0%|          | 0/7 [00:00<?, ?it/s]\u001b[A\n",
      "Getting Choro data: 100%|██████████| 7/7 [00:00<00:00, 694.39it/s]\u001b[A"
     ]
    }
   ],
   "source": [
    "m1 = dl.mapping(dataset=\"BLS\")"
   ]
  },
  {
   "cell_type": "code",
   "execution_count": null,
   "metadata": {},
   "outputs": [],
   "source": [
    "dl.data[\"26147\"]['BLS'].DataFrame"
   ]
  },
  {
   "cell_type": "code",
   "execution_count": null,
   "metadata": {},
   "outputs": [],
   "source": [
    "config = Config()\n",
    "config.BLS.NAI"
   ]
  },
  {
   "cell_type": "code",
   "execution_count": 6,
   "metadata": {
    "scrolled": false
   },
   "outputs": [
    {
     "data": {
      "application/vnd.jupyter.widget-view+json": {
       "model_id": "868517c6887e46a3a324c8ea81be24c7",
       "version_major": 2,
       "version_minor": 0
      },
      "text/plain": [
       "Map(basemap={'url': 'https://{s}.tile.openstreetmap.org/{z}/{x}/{y}.png', 'max_zoom': 19, 'attribution': 'Map …"
      ]
     },
     "metadata": {},
     "output_type": "display_data"
    }
   ],
   "source": [
    "m1.show(\n",
    "        center=(42.346814, -83.319304),\n",
    "        zoom=8,\n",
    ")"
   ]
  },
  {
   "cell_type": "code",
   "execution_count": null,
   "metadata": {},
   "outputs": [],
   "source": [
    "dl.data['26163'][\"BLS\"].DataFrame"
   ]
  },
  {
   "cell_type": "code",
   "execution_count": null,
   "metadata": {},
   "outputs": [],
   "source": [
    "config = Config()\n",
    "config.BLS.NAICS_CODE_LIST.update(\n",
    "    {\n",
    "        \"101\": \"Goods-producing\",\n",
    "        \"102\": \"Service-providing\",\n",
    "    }\n",
    ")\n",
    "config.BLS.NAICS_CODE_LIST"
   ]
  },
  {
   "cell_type": "code",
   "execution_count": null,
   "metadata": {},
   "outputs": [],
   "source": [
    "\n",
    "datasets = [\"BLS\"]\n",
    "fips = {\"26093\": \"Livingston,MI\",\n",
    "                          \"26099\": \"Macomb,MI\",\n",
    "                          \"26115\": \"Monroe,MI\",\n",
    "                          \"26125\": \"Oakland,MI\",\n",
    "                          \"26147\": \"St. Clair,MI\",\n",
    "                          \"26161\": \"Washtenaw,MI\",\n",
    "                          \"26163\": \"Wayne,MI\"}.keys()\n",
    "dl = Downloader(datasets, list(fips), config=config)\n",
    "dl.download()\n",
    "m1 = dl.mapping(dataset=\"BLS\")\n",
    "m1.show(\n",
    "        center=(42.346814, -83.319304),\n",
    "        zoom=8,\n",
    ")"
   ]
  },
  {
   "cell_type": "code",
   "execution_count": null,
   "metadata": {},
   "outputs": [],
   "source": [
    "m1.choro_data"
   ]
  },
  {
   "cell_type": "code",
   "execution_count": null,
   "metadata": {},
   "outputs": [],
   "source": [
    "datasets = [\"acs\"]\n",
    "fips = {\n",
    "    \"26093\": \"Livingston,MI\",\n",
    "    \"26099\": \"Macomb,MI\",\n",
    "    \"26115\": \"Monroe,MI\",\n",
    "    \"26125\": \"Oakland,MI\",\n",
    "    \"26147\": \"St. Clair,MI\",\n",
    "    \"26161\": \"Washtenaw,MI\",\n",
    "    \"26163\": \"Wayne,MI\"\n",
    "}.keys()\n",
    "d2 = Downloader(datasets, list(fips))\n",
    "d2.download()\n",
    "m2 = d2.mapping(dataset=\"acs\")\n",
    "m2.show(\n",
    "        center=(42.346814, -83.319304),\n",
    "        zoom=8,\n",
    ")"
   ]
  },
  {
   "cell_type": "code",
   "execution_count": null,
   "metadata": {},
   "outputs": [],
   "source": [
    "d2.data['26093']['acs'].DataFrame"
   ]
  },
  {
   "cell_type": "code",
   "execution_count": null,
   "metadata": {},
   "outputs": [],
   "source": [
    "m2 = d2.mapping(dataset=\"acs\")\n",
    "m2.show()"
   ]
  }
 ],
 "metadata": {
  "kernelspec": {
   "display_name": "Python 3",
   "language": "python",
   "name": "python3"
  },
  "language_info": {
   "codemirror_mode": {
    "name": "ipython",
    "version": 3
   },
   "file_extension": ".py",
   "mimetype": "text/x-python",
   "name": "python",
   "nbconvert_exporter": "python",
   "pygments_lexer": "ipython3",
   "version": "3.6.8"
  }
 },
 "nbformat": 4,
 "nbformat_minor": 2
}
