{
 "cells": [
  {
   "cell_type": "markdown",
   "metadata": {},
   "source": [
    "## Raw Data"
   ]
  },
  {
   "cell_type": "code",
   "execution_count": 1,
   "metadata": {},
   "outputs": [
    {
     "name": "stderr",
     "output_type": "stream",
     "text": [
      "Download BLS data: 100%|██████████| 2/2 [00:10<00:00,  5.10s/it]\n",
      "Download BEA: 100%|██████████| 7/7 [00:03<00:00,  2.15it/s]\n"
     ]
    }
   ],
   "source": [
    "from socioFetcher import Downloader, GeoDataFrame, Config\n",
    "myConfig = Config()\n",
    "datasets = [\"BLS\", \"BEA\"]\n",
    "fips = {\"26093\": \"Livingston,MI\",\n",
    "        \"26099\": \"Macomb,MI\",\n",
    "        \"26115\": \"Monroe,MI\",\n",
    "        \"26125\": \"Oakland,MI\",\n",
    "        \"26147\": \"St. Clair,MI\",\n",
    "        \"26161\": \"Washtenaw,MI\",\n",
    "        \"26163\": \"Wayne,MI\"}\n",
    "dl = Downloader(datasets, list(fips.keys()), config=myConfig)\n",
    "dl.download()\n",
    "dl.export(\"data/\")"
   ]
  },
  {
   "cell_type": "code",
   "execution_count": 2,
   "metadata": {},
   "outputs": [
    {
     "name": "stdout",
     "output_type": "stream",
     "text": [
      "\u001b[34mLivingston,MI\u001b[m\u001b[m/ \u001b[34mMonroe,MI\u001b[m\u001b[m/     \u001b[34mSt. Clair,MI\u001b[m\u001b[m/  \u001b[34mWayne,MI\u001b[m\u001b[m/\r\n",
      "\u001b[34mMacomb,MI\u001b[m\u001b[m/     \u001b[34mOakland,MI\u001b[m\u001b[m/    \u001b[34mWashtenaw,MI\u001b[m\u001b[m/\r\n"
     ]
    }
   ],
   "source": [
    "%ls data/"
   ]
  },
  {
   "cell_type": "code",
   "execution_count": 3,
   "metadata": {},
   "outputs": [
    {
     "name": "stdout",
     "output_type": "stream",
     "text": [
      "BEA.csv  BLS.csv\r\n"
     ]
    }
   ],
   "source": [
    "%ls data/Oakland,MI"
   ]
  },
  {
   "cell_type": "code",
   "execution_count": 4,
   "metadata": {},
   "outputs": [
    {
     "name": "stdout",
     "output_type": "stream",
     "text": [
      ",avgIncome\r\n",
      "1969,5514.0\r\n",
      "1970,5471.0\r\n",
      "1971,5977.0\r\n",
      "1972,6661.0\r\n",
      "1973,7384.0\r\n",
      "1974,7783.0\r\n",
      "1975,8248.0\r\n",
      "1976,9351.0\r\n",
      "1977,10632.0\r\n",
      "1978,11857.0\r\n",
      "1979,12999.0\r\n",
      "1980,13844.0\r\n",
      "1981,14979.0\r\n",
      "1982,15523.0\r\n",
      "1983,16647.0\r\n",
      "1984,18716.0\r\n",
      "1985,20718.0\r\n",
      "1986,22020.0\r\n",
      "1987,22744.0\r\n",
      "1988,24502.0\r\n",
      "1989,26828.0\r\n",
      "1990,27670.0\r\n",
      "1991,27474.0\r\n",
      "1992,29509.0\r\n",
      "1993,31165.0\r\n",
      "1994,33534.0\r\n",
      "1995,35749.0\r\n",
      "1996,37587.0\r\n",
      "1997,39207.0\r\n",
      "1998,42761.0\r\n",
      "1999,44477.0\r\n",
      "2000,48256.0\r\n",
      "2001,49344.0\r\n",
      "2002,48794.0\r\n",
      "2003,49037.0\r\n",
      "2004,49851.0\r\n",
      "2005,50578.0\r\n",
      "2006,51189.0\r\n",
      "2007,52836.0\r\n",
      "2008,52907.0\r\n",
      "2009,48386.0\r\n",
      "2010,49618.0\r\n",
      "2011,54020.0\r\n",
      "2012,57651.0\r\n",
      "2013,57686.0\r\n",
      "2014,60933.0\r\n",
      "2015,64786.0\r\n",
      "2016,66508.0\r\n",
      "2017,68971.0\r\n"
     ]
    }
   ],
   "source": [
    "%cat data/Oakland,MI/BEA.csv"
   ]
  },
  {
   "cell_type": "markdown",
   "metadata": {},
   "source": [
    "## Map it"
   ]
  },
  {
   "cell_type": "code",
   "execution_count": null,
   "metadata": {
    "collapsed": true
   },
   "outputs": [],
   "source": [
    "from socioFetcher import Downloader, GeoDataFrame, Config\n",
    "myConfig = Config()\n",
    "datasets = [\"BLS\"]\n",
    "fips = {\"26093\": \"Livingston,MI\",\n",
    "        \"26099\": \"Macomb,MI\",\n",
    "        \"26115\": \"Monroe,MI\",\n",
    "        \"26125\": \"Oakland,MI\",\n",
    "        \"26147\": \"St. Clair,MI\",\n",
    "        \"26161\": \"Washtenaw,MI\",\n",
    "        \"26163\": \"Wayne,MI\"}\n",
    "dl = Downloader(datasets, list(fips.keys()), config=myConfig)\n",
    "dl.download()"
   ]
  },
  {
   "cell_type": "code",
   "execution_count": 10,
   "metadata": {},
   "outputs": [
    {
     "name": "stderr",
     "output_type": "stream",
     "text": [
      "Getting Choro data: 100%|██████████| 7/7 [00:00<00:00, 1146.84it/s]\n"
     ]
    },
    {
     "data": {
      "application/vnd.jupyter.widget-view+json": {
       "model_id": "c5bfc350d07341b5b393d4603f5c79ed",
       "version_major": 2,
       "version_minor": 0
      },
      "text/plain": [
       "Map(basemap={'url': 'https://{s}.tile.openstreetmap.org/{z}/{x}/{y}.png', 'max_zoom': 19, 'attribution': 'Map …"
      ]
     },
     "metadata": {},
     "output_type": "display_data"
    }
   ],
   "source": [
    "m1 = dl.mapping(dataset=\"BLS\")\n",
    "m1.show(\n",
    "        center=(42.346814, -83.319304),\n",
    "        zoom=8,\n",
    ")"
   ]
  }
 ],
 "metadata": {
  "kernelspec": {
   "display_name": "Python 3",
   "language": "python",
   "name": "python3"
  },
  "language_info": {
   "codemirror_mode": {
    "name": "ipython",
    "version": 3
   },
   "file_extension": ".py",
   "mimetype": "text/x-python",
   "name": "python",
   "nbconvert_exporter": "python",
   "pygments_lexer": "ipython3",
   "version": "3.6.6"
  }
 },
 "nbformat": 4,
 "nbformat_minor": 2
}
