{
 "cells": [
  {
   "cell_type": "code",
   "execution_count": null,
   "metadata": {},
   "outputs": [],
   "source": [
    "from socioFetcher import Config, Downloader\n",
    "\n",
    "# Customize Config\n",
    "myConfig = Config()\n",
    "myConfig.BLS.API_KEY = \"YOUR_BLS_KEY\"\n",
    "myConfig.BLS.TABLE_NUMBER = [\"ENU\"]\n",
    "myConfig.BLS.DATA_TYPE = [\"1\"]\n",
    "myConfig.BLS.SIZE = [\"0\"]\n",
    "myConfig.BLS.OWNERSHIP = [\"5\"]\n",
    "myConfig.BLS.NAICS_CODE_LIST = {\n",
    "    \"10\":\t\"10 Total, all industries\",\n",
    "    \"101\":\t\"101 Goods-producing\",\n",
    "    \"102\"\t: \"102 Service-providing\"\n",
    "}\n",
    "\n",
    "myConfig.BEA.API_KDY = \"YOUR_BEA_KEY\"\n",
    "myConfig.BEA.LINE_CODE = [\"3\"]\n",
    "myConfig.BEA.TABLE_NAME = [\"CAINC1\"]\n",
    "myConfig.BEA.YEAR = [\"ALL\"]\n",
    "\n",
    "datasets = [\"BLS\", \"BEA\"]\n",
    "fips = {\"26093\": \"Livingston,MI\",\n",
    "        \"26099\": \"Macomb,MI\",\n",
    "        \"26115\": \"Monroe,MI\",\n",
    "        \"26125\": \"Oakland,MI\",\n",
    "        \"26147\": \"St. Clair,MI\",\n",
    "        \"26161\": \"Washtenaw,MI\",\n",
    "        \"26163\": \"Wayne,MI\"}\n",
    "dl = Downloader(datasets, list(fips.keys()), config=myConfig)\n",
    "dl.download()\n",
    "mapView = dl.mapping(\"BLS\")\n",
    "mapView.show(\n",
    "    center=(42.346814, -83.319304),\n",
    "    zoom=8,\n",
    ")\n"
   ]
  }
 ],
 "metadata": {
  "kernelspec": {
   "display_name": "Python 3",
   "language": "python",
   "name": "python3"
  },
  "language_info": {
   "codemirror_mode": {
    "name": "ipython",
    "version": 3
   },
   "file_extension": ".py",
   "mimetype": "text/x-python",
   "name": "python",
   "nbconvert_exporter": "python",
   "pygments_lexer": "ipython3",
   "version": "3.6.8"
  }
 },
 "nbformat": 4,
 "nbformat_minor": 2
}
