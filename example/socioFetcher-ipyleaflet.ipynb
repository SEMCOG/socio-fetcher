{
 "cells": [
  {
   "cell_type": "code",
   "execution_count": null,
   "metadata": {},
   "outputs": [],
   "source": [
    "from socioFetcher import Downloader, GeoDataFrame, Config\n",
    "from ipyleaflet import Map, basemaps, basemap_to_tiles, GeoData, GeoJSON\n",
    "import ipyleaflet\n",
    "from branca.colormap import linear\n",
    "import geopandas \n",
    "import requests \n",
    "from shapely.geometry import shape\n",
    "import json\n",
    "\n",
    "from ipywidgets import IntSlider, HTML"
   ]
  },
  {
   "cell_type": "code",
   "execution_count": null,
   "metadata": {
    "scrolled": true
   },
   "outputs": [],
   "source": [
    "dataset = [\"BEA\", \"ACS\"]\n",
    "fipsList = [\"26161\", \"26163\"]\n",
    "downloader = Downloader(dataset, fipsList)\n",
    "downloader.download()"
   ]
  },
  {
   "cell_type": "code",
   "execution_count": null,
   "metadata": {},
   "outputs": [],
   "source": [
    "r = requests.get(\"https://tigerweb.geo.census.gov/arcgis/rest/services/TIGERweb/State_County/MapServer/1/query?where=STATE%3D%2226%22+&text=&objectIds=&time=&geometry=&geometryType=esriGeometryEnvelope&inSR=&spatialRel=esriSpatialRelIntersects&relationParam=&outFields=GEOID%2C+STATE%2C+COUNTY%2C+NAME&returnGeometry=true&returnTrueCurves=false&maxAllowableOffset=&geometryPrecision=&outSR=&returnIdsOnly=false&returnCountOnly=false&orderByFields=&groupByFieldsForStatistics=&outStatistics=&returnZ=false&returnM=false&gdbVersion=&returnDistinctValues=false&resultOffset=&resultRecordCount=&queryByDistance=&returnExtentsOnly=false&datumTransformation=&parameterValues=&rangeValues=&f=geojson\")\n",
    "\n",
    "\n"
   ]
  },
  {
   "cell_type": "code",
   "execution_count": null,
   "metadata": {},
   "outputs": [],
   "source": [
    "m = Map(\n",
    "    layers=(basemap_to_tiles(basemaps.NASAGIBS.ModisTerraTrueColorCR, \"2017-04-08\"), ),\n",
    "    center=(42.124026, -84.102547),\n",
    "    zoom=4\n",
    ")"
   ]
  },
  {
   "cell_type": "code",
   "execution_count": null,
   "metadata": {},
   "outputs": [],
   "source": [
    "geo_json = GeoJSON(data=r.json(),\n",
    "                   style = {\n",
    "                       'color': 'green',\n",
    "                       'opacity':1,\n",
    "                       'weight':1.9,\n",
    "                       'dashArray':'9',\n",
    "                       'fillOpacity':0.1})\n",
    "\n",
    "m.add_layer(geo_json)"
   ]
  },
  {
   "cell_type": "code",
   "execution_count": null,
   "metadata": {},
   "outputs": [],
   "source": [
    "chorLyr = ipyleaflet.Choropleth(\n",
    "    geo_data=geo_json.data\n",
    ")"
   ]
  },
  {
   "cell_type": "code",
   "execution_count": null,
   "metadata": {},
   "outputs": [],
   "source": [
    "m"
   ]
  },
  {
   "cell_type": "code",
   "execution_count": null,
   "metadata": {},
   "outputs": [],
   "source": [
    "def get_county_geojson(fipsList, outFields):\n",
    "    where = \"\"\n",
    "    for i, fips in enumerate(fipsList):\n",
    "        where += f\"(STATE='{fips[:2]}' AND COUNTY='{fips[2:]}')\"\n",
    "        if i != len(fipsList)-1:\n",
    "            where += \" OR \"\n",
    "    params = {\n",
    "        \"where\": where,\n",
    "        \"outFields\": outFields,  #\"GEOID, STATE, COUNTY, NAME\",\n",
    "        \"f\":\"geojson\",\n",
    "        \"text\": \"\",\n",
    "        \"objectIds\": \"\",\n",
    "        \"time\": \"\",\n",
    "        \"geometry\": \"\",\n",
    "        \"geometryType\": \"esriGeometryEnvelope\",\n",
    "        \"inSR\": \"\",\n",
    "        \"spatialRel\": \"esriSpatialRelIntersects\",\n",
    "        \"relationParam\": \"\",\n",
    "        \"returnGeometry\": True,\n",
    "        \"returnTrueCurves\": False,\n",
    "        \"maxAllowableOffset\": \"\",\n",
    "        \"geometryPrecision\": \"\",\n",
    "        \"outSR\": \"\",\n",
    "        \"returnIdsOnly\": False,\n",
    "        \"returnCountOnly\": False,\n",
    "        \"orderByFields\": \"\",\n",
    "        \"groupByFieldsForStatistics\": \"\",\n",
    "        \"outStatistics\": \"\",\n",
    "        \"returnZ\": False,\n",
    "        \"returnM\": False,\n",
    "        \"gdbVersion\": \"\",\n",
    "        \"returnDistinctValues\": False,\n",
    "        \"resultOffset\": \"\",\n",
    "        \"resultRecordCount\": \"\",\n",
    "        \"queryByDistance\": \"\",\n",
    "        \"returnExtentsOnly\": False,\n",
    "        \"datumTransformation\": \"\",\n",
    "        \"parameterValues\": \"\",\n",
    "        \"rangeValues\": \"\"\n",
    "    }\n",
    "    r = requests.get(\n",
    "        \"https://tigerweb.geo.census.gov/arcgis/rest/services/TIGERweb/State_County/MapServer/1/query\",\n",
    "        params=params\n",
    "    )\n",
    "    print(r.url)\n",
    "    \n",
    "    return r.json()"
   ]
  },
  {
   "cell_type": "code",
   "execution_count": null,
   "metadata": {},
   "outputs": [],
   "source": [
    "def add_id(geojson, idname):\n",
    "    for i, feature in enumerate(geojson[\"features\"]):\n",
    "        geojson[\"features\"][i][\"id\"] = geojson[\"features\"][i][\"properties\"][idname]\n",
    "    return geojson\n",
    "        \n",
    "geojson = add_id(geo_json.data, \"GEOID\")"
   ]
  },
  {
   "cell_type": "code",
   "execution_count": null,
   "metadata": {
    "scrolled": true
   },
   "outputs": [],
   "source": [
    "data = get_county_geojson([\"26161\", \"26163\"], \"GEOID\")"
   ]
  },
  {
   "cell_type": "code",
   "execution_count": null,
   "metadata": {},
   "outputs": [],
   "source": [
    "data = add_id(data, \"GEOID\")\n",
    "choro_data = {\n",
    "          \"26161\": 5,\n",
    "          \"26163\": 10\n",
    "      }\n",
    "m = Map(\n",
    "    layers=(ipyleaflet.basemap_to_tiles(ipyleaflet.basemaps.CartoDB.Positron), ),\n",
    "    center=(42.124026, -84.102547),\n",
    "    zoom=9\n",
    ")\n",
    "chron = ipyleaflet.Choropleth(geo_data=data,\n",
    "                              choro_data=choro_data,\n",
    "                              colormap=linear.YlOrRd_04,\n",
    "                              name=\"ACS\",\n",
    "                               style = {\n",
    "                                   'opacity':1,\n",
    "                                   'weight':1.9,\n",
    "                                   'dashArray':'9',\n",
    "                                   'fillOpacity':0.5})\n",
    "def handle_click(**kwargs):\n",
    "    chron.style = {'opacity': 1, 'weight': 1.9, 'dashArray': '9', 'fillOpacity': 1}\n",
    "    chron.choro_data =  {\n",
    "          \"26161\": 20,\n",
    "          \"26163\": 10\n",
    "      }\n",
    "    data_box.value = \"new data\"\n",
    "    \n",
    "chron.on_click(handle_click)\n",
    "\n",
    "year_slider = IntSlider(description='Year:', min=2010, max=2017, value=2017)\n",
    "year_widget = ipyleaflet.WidgetControl(widget=year_slider, position='topright')\n",
    "\n",
    "data_box = HTML(\n",
    "    value=\"click to show data\"\n",
    ")\n",
    "data_widget = ipyleaflet.WidgetControl(widget=data_box, position='topright')\n",
    "\n",
    "\n",
    "m.add_layer(chron)\n",
    "m.add_control(ipyleaflet.LayersControl())\n",
    "m.add_control(ipyleaflet.FullScreenControl())\n",
    "m.add_control(year_widget)\n",
    "m.add_control(data_widget)\n",
    "m"
   ]
  },
  {
   "cell_type": "code",
   "execution_count": 1,
   "metadata": {},
   "outputs": [
    {
     "name": "stdout",
     "output_type": "stream",
     "text": [
      "Loading Data for Wayne,MI\n",
      "Loading Data for Washtenaw,MI\n",
      "Loading Data for Wayne,MI\n",
      "Loading Data for Washtenaw,MI\n"
     ]
    },
    {
     "data": {
      "application/vnd.jupyter.widget-view+json": {
       "model_id": "c458a43e14e647ca8b7316da3678ed8d",
       "version_major": 2,
       "version_minor": 0
      },
      "text/plain": [
       "Map(basemap={'url': 'https://{s}.tile.openstreetmap.org/{z}/{x}/{y}.png', 'max_zoom': 19, 'attribution': 'Map …"
      ]
     },
     "metadata": {},
     "output_type": "display_data"
    }
   ],
   "source": [
    "from socioFetcher.mapview import MapView\n",
    "mapview = MapView(\"\", \"\", \"\", zoom=10)\n",
    "mapview.show()"
   ]
  },
  {
   "cell_type": "code",
   "execution_count": null,
   "metadata": {},
   "outputs": [],
   "source": []
  }
 ],
 "metadata": {
  "kernelspec": {
   "display_name": "Python 3",
   "language": "python",
   "name": "python3"
  },
  "language_info": {
   "codemirror_mode": {
    "name": "ipython",
    "version": 3
   },
   "file_extension": ".py",
   "mimetype": "text/x-python",
   "name": "python",
   "nbconvert_exporter": "python",
   "pygments_lexer": "ipython3",
   "version": "3.6.8"
  }
 },
 "nbformat": 4,
 "nbformat_minor": 2
}
