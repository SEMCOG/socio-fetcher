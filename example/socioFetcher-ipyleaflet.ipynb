{
 "cells": [
  {
   "cell_type": "code",
   "execution_count": 1,
   "metadata": {},
   "outputs": [],
   "source": [
    "from socioFetcher import Downloader, GeoDataFrame, Config\n",
    "from ipyleaflet import Map, basemaps, basemap_to_tiles, GeoData, GeoJSON\n",
    "import ipyleaflet\n",
    "from branca.colormap import linear\n",
    "import geopandas \n",
    "import requests \n",
    "from shapely.geometry import shape\n",
    "import json\n",
    "\n",
    "from ipywidgets import IntSlider, HTML, Dropdown"
   ]
  },
  {
   "cell_type": "code",
   "execution_count": 4,
   "metadata": {
    "scrolled": false
   },
   "outputs": [
    {
     "name": "stderr",
     "output_type": "stream",
     "text": [
      "Download BLS data: 100%|██████████| 1/1 [00:01<00:00,  1.75s/it]\n",
      "Getting Choro data: 100%|██████████| 7/7 [00:00<00:00, 4817.08it/s]\n"
     ]
    },
    {
     "data": {
      "application/vnd.jupyter.widget-view+json": {
       "model_id": "cc985f52f2e4454f919a372bef73ea5f",
       "version_major": 2,
       "version_minor": 0
      },
      "text/plain": [
       "Map(basemap={'url': 'https://{s}.tile.openstreetmap.org/{z}/{x}/{y}.png', 'max_zoom': 19, 'attribution': 'Map …"
      ]
     },
     "metadata": {},
     "output_type": "display_data"
    }
   ],
   "source": [
    "datasets = [\"BLS\"]\n",
    "fips = {\"26093\": \"Livingston,MI\",\n",
    "                          \"26099\": \"Macomb,MI\",\n",
    "                          \"26115\": \"Monroe,MI\",\n",
    "                          \"26125\": \"Oakland,MI\",\n",
    "                          \"26147\": \"St. Clair,MI\",\n",
    "                          \"26161\": \"Washtenaw,MI\",\n",
    "                          \"26163\": \"Wayne,MI\"}.keys()\n",
    "dl = Downloader(datasets, list(fips))\n",
    "dl.download()\n",
    "m1 = dl.mapping(dataset=\"BLS\")\n",
    "m1.show()"
   ]
  },
  {
   "cell_type": "code",
   "execution_count": null,
   "metadata": {},
   "outputs": [],
   "source": [
    "datasets = [\"acs\"]\n",
    "fips = {\"26093\": \"Livingston,MI\",\n",
    "                          \"26099\": \"Macomb,MI\",\n",
    "                          \"26115\": \"Monroe,MI\",\n",
    "                          \"26125\": \"Oakland,MI\",\n",
    "                          \"26147\": \"St. Clair,MI\",\n",
    "                          \"26161\": \"Washtenaw,MI\",\n",
    "                          \"26163\": \"Wayne,MI\"}.keys()\n",
    "d2 = Downloader(datasets, list(fips))\n",
    "d2.download()\n",
    "m2 = d2.mapping(dataset=\"acs\")\n",
    "m2.show()"
   ]
  },
  {
   "cell_type": "code",
   "execution_count": 3,
   "metadata": {},
   "outputs": [
    {
     "name": "stderr",
     "output_type": "stream",
     "text": [
      "Getting Choro data: 100%|██████████| 7/7 [00:00<00:00, 2111.63it/s]\n"
     ]
    },
    {
     "data": {
      "application/vnd.jupyter.widget-view+json": {
       "model_id": "6251785797d64e4a9045027d2c6d9ac2",
       "version_major": 2,
       "version_minor": 0
      },
      "text/plain": [
       "Map(basemap={'url': 'https://{s}.tile.openstreetmap.org/{z}/{x}/{y}.png', 'max_zoom': 19, 'attribution': 'Map …"
      ]
     },
     "metadata": {},
     "output_type": "display_data"
    }
   ],
   "source": [
    "m2 = d2.mapping(dataset=\"acs\")\n",
    "m2.show()"
   ]
  },
  {
   "cell_type": "code",
   "execution_count": null,
   "metadata": {},
   "outputs": [],
   "source": [
    "data = add_id(data, \"GEOID\")\n",
    "choro_data = {\n",
    "          \"26161\": 5,\n",
    "          \"26163\": 10\n",
    "      }\n",
    "m = Map(\n",
    "    layers=(ipyleaflet.basemap_to_tiles(ipyleaflet.basemaps.CartoDB.Positron), ),\n",
    "    center=(42.124026, -84.102547),\n",
    "    zoom=9\n",
    ")\n",
    "chron = ipyleaflet.Choropleth(geo_data=data,\n",
    "                              choro_data=choro_data,\n",
    "                              colormap=linear.YlOrRd_04,\n",
    "                              name=\"ACS\",\n",
    "                               style = {\n",
    "                                   'opacity':1,\n",
    "                                   'weight':1.9,\n",
    "                                   'dashArray':'9',\n",
    "                                   'fillOpacity':0.5})\n",
    "def handle_click(**kwargs):\n",
    "    chron.style = {'opacity': 1, 'weight': 1.9, 'dashArray': '9', 'fillOpacity': 1}\n",
    "    chron.choro_data =  {\n",
    "          \"26161\": 20,\n",
    "          \"26163\": 10\n",
    "      }\n",
    "    data_box.value = \"new data\"\n",
    "    \n",
    "chron.on_click(handle_click)\n",
    "\n",
    "year_slider = IntSlider(description='Year:', min=2010, max=2017, value=2017)\n",
    "year_widget = ipyleaflet.WidgetControl(widget=year_slider, position='topright')\n",
    "def handle_year_change(change):\n",
    "    print(change.old)\n",
    "    print(change.new)\n",
    "year_slider.observe(handle_year_change, \"value\")\n",
    "\n",
    "dropdown = Dropdown(\n",
    "    options=set(['1', '2', '3']),\n",
    "    value='2',\n",
    "    description='Number:',\n",
    "    disabled=False,\n",
    ")\n",
    "dropdown_wgt = ipyleaflet.WidgetControl(widget=dropdown, position='topright')\n",
    "dropdown.observe(lambda change: print(change.new), \"value\")\n",
    "\n",
    "data_box = HTML(\n",
    "    value=\"click to show data\"\n",
    ")\n",
    "data_widget = ipyleaflet.WidgetControl(widget=data_box, position='topright')\n",
    "\n",
    "\n",
    "m.add_layer(chron)\n",
    "m.add_control(ipyleaflet.LayersControl())\n",
    "m.add_control(ipyleaflet.FullScreenControl())\n",
    "m.add_control(year_widget)\n",
    "m.add_control(dropdown_wgt)\n",
    "m.add_control(data_widget)\n",
    "m"
   ]
  }
 ],
 "metadata": {
  "kernelspec": {
   "display_name": "Python 3",
   "language": "python",
   "name": "python3"
  },
  "language_info": {
   "codemirror_mode": {
    "name": "ipython",
    "version": 3
   },
   "file_extension": ".py",
   "mimetype": "text/x-python",
   "name": "python",
   "nbconvert_exporter": "python",
   "pygments_lexer": "ipython3",
   "version": "3.6.8"
  }
 },
 "nbformat": 4,
 "nbformat_minor": 2
}
